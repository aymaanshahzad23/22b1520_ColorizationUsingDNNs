{
 "cells": [
  {
   "cell_type": "code",
   "execution_count": 13,
   "metadata": {},
   "outputs": [],
   "source": [
    "import torch\n",
    "import torch.nn as nn\n",
    "import torch.optim as optim\n",
    "from torchvision import transforms\n",
    "from torch.utils.data import DataLoader\n",
    "from torch.utils.data.dataset import Dataset\n",
    "from skimage.color import rgb2lab\n",
    "from PIL import Image\n",
    "import numpy as np"
   ]
  },
  {
   "cell_type": "code",
   "execution_count": 129,
   "metadata": {},
   "outputs": [],
   "source": [
    "# Data Preparation\n",
    "def preprocess_image(image_path):\n",
    "    image = Image.open(image_path).convert('RGB')\n",
    "    transform = transforms.Compose([transforms.Resize((400, 400)),\n",
    "                                    transforms.ToTensor()])\n",
    "    img = transform(image)\n",
    "    lab_image = rgb2lab(np.array(image))\n",
    "    X = lab_image[:, :, 0]\n",
    "    Y = lab_image[:, :, 1:] / 128.0\n",
    "    X = X.reshape(1, 1, 400, 400)\n",
    "    Y = Y.reshape(1, 2, 400, 400)\n",
    "    return torch.Tensor(X), torch.Tensor(Y)\n",
    "\n",
    "# preprocess_image('woman.jpg')"
   ]
  },
  {
   "cell_type": "code",
   "execution_count": 242,
   "metadata": {},
   "outputs": [],
   "source": [
    "class ColorizationModel(nn.Module):\n",
    "    def __init__(self):\n",
    "        super(ColorizationModel, self).__init__()\n",
    "        self.encoder = nn.Sequential(\n",
    "            nn.Conv2d(1, 8, 3,padding=1, stride=2),  # Assuming grayscale input images\n",
    "            nn.ReLU(),\n",
    "            nn.Conv2d(8, 8, 3,padding=1),\n",
    "            nn.ReLU(),\n",
    "            nn.Conv2d(8, 16, 3,padding=1),\n",
    "            nn.ReLU(),\n",
    "            nn.Conv2d(16, 16, 3,padding=1, stride=2),\n",
    "            nn.ReLU(),\n",
    "            nn.Conv2d(16, 32, 3,padding=1),\n",
    "            nn.ReLU(),\n",
    "            nn.Conv2d(32, 32, 3,padding=1, stride=2),\n",
    "            nn.ReLU()\n",
    "        )\n",
    "        self.decoder = nn.Sequential(\n",
    "            nn.Upsample(scale_factor=2, mode='nearest'),\n",
    "            nn.ConvTranspose2d(32, 32, 3, padding=1),\n",
    "            nn.ReLU(),\n",
    "            nn.Upsample(scale_factor=2, mode='nearest'),\n",
    "            nn.ConvTranspose2d(32, 16, 3, padding=1),\n",
    "            nn.ReLU(),\n",
    "            nn.Upsample(scale_factor=2, mode='nearest'),\n",
    "            nn.ConvTranspose2d(16, 2, 3, padding=1),\n",
    "            nn.Sigmoid()  # Using Sigmoid as the final activation\n",
    "        )\n",
    "\n",
    "    def forward(self, x):\n",
    "        x = self.encoder(x)\n",
    "        x = self.decoder(x)\n",
    "        return x * 128.0\n"
   ]
  },
  {
   "cell_type": "code",
   "execution_count": 243,
   "metadata": {},
   "outputs": [],
   "source": [
    "model = ColorizationModel()\n",
    "\n",
    "# defining loss and optmizer\n",
    "criterion = nn.MSELoss()\n",
    "optimizer = optim.RMSprop(params=model.parameters(), lr=0.001) "
   ]
  },
  {
   "cell_type": "code",
   "execution_count": 244,
   "metadata": {},
   "outputs": [],
   "source": [
    "for epoch in range(100):\n",
    "    X, Y = preprocess_image('woman.jpg')\n",
    "    optimizer.zero_grad()\n",
    "    output = model(X)\n",
    "    loss = criterion(output, Y)\n",
    "    loss.backward()\n",
    "    optimizer.step()"
   ]
  },
  {
   "cell_type": "code",
   "execution_count": 245,
   "metadata": {},
   "outputs": [
    {
     "name": "stdout",
     "output_type": "stream",
     "text": [
      "0.00940132699906826\n"
     ]
    }
   ],
   "source": [
    "with torch.no_grad():\n",
    "    X, _ = preprocess_image('woman.jpg')\n",
    "    output = model(X)\n",
    "    output *= 128\n",
    "\n",
    "print(loss.item())"
   ]
  },
  {
   "cell_type": "code",
   "execution_count": 277,
   "metadata": {},
   "outputs": [
    {
     "name": "stdout",
     "output_type": "stream",
     "text": [
      "torch.Size([1, 2, 400, 400])\n"
     ]
    }
   ],
   "source": [
    "print(output.shape)"
   ]
  }
 ],
 "metadata": {
  "kernelspec": {
   "display_name": "Python 3",
   "language": "python",
   "name": "python3"
  },
  "language_info": {
   "codemirror_mode": {
    "name": "ipython",
    "version": 3
   },
   "file_extension": ".py",
   "mimetype": "text/x-python",
   "name": "python",
   "nbconvert_exporter": "python",
   "pygments_lexer": "ipython3",
   "version": "3.11.4"
  }
 },
 "nbformat": 4,
 "nbformat_minor": 2
}
