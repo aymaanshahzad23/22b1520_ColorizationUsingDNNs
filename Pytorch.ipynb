{
 "cells": [
  {
   "cell_type": "markdown",
   "id": "ddfb19ec",
   "metadata": {},
   "source": [
    "# Pytorch\n"
   ]
  },
  {
   "cell_type": "markdown",
   "id": "a3f05006",
   "metadata": {},
   "source": [
    "<p>Tensors are a data type just like lists, strings etc.<br>\n",
    "We can convert numpy arrays into tensors and vice versa.<p>"
   ]
  },
  {
   "cell_type": "code",
   "execution_count": 12,
   "id": "88240559",
   "metadata": {},
   "outputs": [],
   "source": [
    "# Importing PyTorch\n",
    "import torch"
   ]
  },
  {
   "cell_type": "code",
   "execution_count": 6,
   "id": "c183530e",
   "metadata": {},
   "outputs": [
    {
     "name": "stdout",
     "output_type": "stream",
     "text": [
      "tensor([0.])\n"
     ]
    }
   ],
   "source": [
    "# Initiating an empty tensor\n",
    "# Single element like a scalar\n",
    "x = torch.empty(1)\n",
    "print(x)"
   ]
  },
  {
   "cell_type": "code",
   "execution_count": 7,
   "id": "ee1a341b",
   "metadata": {},
   "outputs": [
    {
     "name": "stdout",
     "output_type": "stream",
     "text": [
      "tensor([0., 0., 0.])\n"
     ]
    }
   ],
   "source": [
    "x = torch.empty(3)\n",
    "print(x)"
   ]
  },
  {
   "cell_type": "code",
   "execution_count": 8,
   "id": "b02395b0",
   "metadata": {},
   "outputs": [
    {
     "name": "stdout",
     "output_type": "stream",
     "text": [
      "tensor([[-6.7504e+35,  1.7012e-42,  0.0000e+00],\n",
      "        [ 0.0000e+00,  0.0000e+00,  0.0000e+00]])\n"
     ]
    }
   ],
   "source": [
    "x = torch.empty(2, 3)\n",
    "print(x)"
   ]
  },
  {
   "cell_type": "code",
   "execution_count": 10,
   "id": "18c60b5c",
   "metadata": {},
   "outputs": [
    {
     "data": {
      "text/plain": [
       "tensor([[[-6.8540e+35,  1.7012e-42,  0.0000e+00,  0.0000e+00],\n",
       "         [ 0.0000e+00,  0.0000e+00,  0.0000e+00,  0.0000e+00],\n",
       "         [ 0.0000e+00,  0.0000e+00,  0.0000e+00,  0.0000e+00]],\n",
       "\n",
       "        [[ 0.0000e+00,  0.0000e+00,  0.0000e+00,  0.0000e+00],\n",
       "         [ 0.0000e+00,  0.0000e+00,  0.0000e+00,  0.0000e+00],\n",
       "         [ 0.0000e+00,  0.0000e+00,  0.0000e+00,  0.0000e+00]]])"
      ]
     },
     "execution_count": 10,
     "metadata": {},
     "output_type": "execute_result"
    }
   ],
   "source": [
    "x = torch.empty(2, 3, 4)\n",
    "x"
   ]
  },
  {
   "cell_type": "code",
   "execution_count": 11,
   "id": "3770b561",
   "metadata": {},
   "outputs": [
    {
     "name": "stdout",
     "output_type": "stream",
     "text": [
      "tensor([[0.4588, 0.9079, 0.8389],\n",
      "        [0.5571, 0.5396, 0.2206]])\n"
     ]
    }
   ],
   "source": [
    "# Random tensor\n",
    "x = torch.rand(2, 3)\n",
    "print(x)"
   ]
  },
  {
   "cell_type": "code",
   "execution_count": 13,
   "id": "ccd3cb52",
   "metadata": {},
   "outputs": [
    {
     "name": "stdout",
     "output_type": "stream",
     "text": [
      "tensor([[1., 1., 1.],\n",
      "        [1., 1., 1.]])\n"
     ]
    }
   ],
   "source": [
    "# Ones tensor\n",
    "x = torch.ones(2, 3)\n",
    "print(x)"
   ]
  },
  {
   "cell_type": "code",
   "execution_count": 21,
   "id": "2c8c34fe",
   "metadata": {},
   "outputs": [
    {
     "name": "stdout",
     "output_type": "stream",
     "text": [
      "tensor([[1., 1., 1.],\n",
      "        [1., 1., 1.]])\n",
      "torch.float32\n",
      "torch.Size([2, 3])\n",
      "torch.Size([2, 3])\n"
     ]
    }
   ],
   "source": [
    "# Ones tensor with specific data type, e.g. float\n",
    "x = torch.ones(2, 3, dtype=torch.float)\n",
    "print(x)\n",
    "print(x.dtype)\n",
    "\n",
    "# Finding the size of a tensor\n",
    "print(x.size())\n",
    "print(x.shape)"
   ]
  },
  {
   "cell_type": "code",
   "execution_count": 22,
   "id": "b4e67a3d",
   "metadata": {},
   "outputs": [
    {
     "name": "stdout",
     "output_type": "stream",
     "text": [
      "tensor([2.5000, 0.1000])\n"
     ]
    }
   ],
   "source": [
    "# Making tensors from data, e.g. lists\n",
    "x = torch.tensor([2.5, 0.1])\n",
    "print(x)"
   ]
  },
  {
   "cell_type": "code",
   "execution_count": 32,
   "id": "728cce98",
   "metadata": {},
   "outputs": [
    {
     "name": "stdout",
     "output_type": "stream",
     "text": [
      "tensor([[0.7227, 1.1214],\n",
      "        [1.4117, 0.7687]])\n",
      "tensor([[0.7227, 1.1214],\n",
      "        [1.4117, 0.7687]])\n",
      "tensor([[0.7227, 1.1214],\n",
      "        [1.4117, 0.7687]])\n"
     ]
    }
   ],
   "source": [
    "# Operations on tensors\n",
    "x = torch.rand(2, 2)\n",
    "y = torch.rand(2, 2)\n",
    "# print(x, y)\n",
    "\n",
    "z = x + y\n",
    "w = torch.add(x, y)\n",
    "\n",
    "# Element-wise addition\n",
    "# print(z)\n",
    "# print(w)\n",
    "\n",
    "# In-place addition\n",
    "y.add_(x)\n",
    "print(y)\n",
    "\n",
    "# Similarly, subtraction\n",
    "# z = x - y\n",
    "\n",
    "# Note: Any operation that mutates a tensor in-place is post-fixed with an _."
   ]
  },
  {
   "cell_type": "code",
   "execution_count": 45,
   "id": "b79dd92f",
   "metadata": {},
   "outputs": [
    {
     "name": "stdout",
     "output_type": "stream",
     "text": [
      "tensor([[0.8988, 0.2231],\n",
      "        [0.0349, 0.9078]])\n",
      "tensor([[0.3554, 0.6494],\n",
      "        [0.6931, 0.2071]])\n",
      "tensor([[2.5293, 0.3435],\n",
      "        [0.0503, 4.3825]])\n"
     ]
    }
   ],
   "source": [
    "# Multiplication (element-wise)\n",
    "z = x * y\n",
    "print(x)\n",
    "print(y)\n",
    "# print(z)\n",
    "\n",
    "# Division (element-wise)\n",
    "w = x / y\n",
    "print(w)"
   ]
  },
  {
   "cell_type": "code",
   "execution_count": 48,
   "id": "c26d32f3",
   "metadata": {},
   "outputs": [
    {
     "name": "stdout",
     "output_type": "stream",
     "text": [
      "tensor([[0.4161, 0.0916, 0.0223],\n",
      "        [0.5184, 0.7228, 0.3701]])\n",
      "tensor([0.4161, 0.5184])\n",
      "tensor([0.5184, 0.7228, 0.3701])\n"
     ]
    }
   ],
   "source": [
    "# Slicing tensors\n",
    "x = torch.rand(2, 3)\n",
    "print(x)\n",
    "print(x[:, 0]) # all rows, first column\n",
    "print(x[1, :]) # second row, all columns\n",
    "# print(x[1, 1])\n"
   ]
  },
  {
   "cell_type": "code",
   "execution_count": 54,
   "id": "5046efdf",
   "metadata": {},
   "outputs": [
    {
     "name": "stdout",
     "output_type": "stream",
     "text": [
      "tensor([[0.2277, 0.0945, 0.5357, 0.2852],\n",
      "        [0.7776, 0.9837, 0.0961, 0.4904],\n",
      "        [0.1358, 0.7923, 0.2274, 0.7849],\n",
      "        [0.8201, 0.7624, 0.8964, 0.9559]])\n",
      "tensor([0.2277, 0.0945, 0.5357, 0.2852, 0.7776, 0.9837, 0.0961, 0.4904, 0.1358,\n",
      "        0.7923, 0.2274, 0.7849, 0.8201, 0.7624, 0.8964, 0.9559])\n"
     ]
    }
   ],
   "source": [
    "# reshaping tensors\n",
    "x = torch.rand(4, 4)\n",
    "print(x)\n",
    "\n",
    "# Reshaping to 16 elements in a single dimension\n",
    "# Use the view() method\n",
    "y = x.view(16)\n",
    "print(y)\n",
    "\n",
    "# Reshaping to 2 rows and 8 columns\n",
    "y = x.view(-1, 8)\n",
    "# Note: -1 means automatically infer the number of remaining dimensions"
   ]
  },
  {
   "cell_type": "markdown",
   "id": "ffbf1899",
   "metadata": {},
   "source": [
    "-----"
   ]
  },
  {
   "cell_type": "markdown",
   "id": "3b1f54f2",
   "metadata": {},
   "source": [
    "### Numpy to Tensors and Vice Versa"
   ]
  },
  {
   "cell_type": "code",
   "execution_count": 61,
   "id": "f0035839",
   "metadata": {},
   "outputs": [
    {
     "name": "stdout",
     "output_type": "stream",
     "text": [
      "[1. 1. 1. 1. 1.]\n",
      "<class 'numpy.ndarray'>\n"
     ]
    }
   ],
   "source": [
    "import numpy as np\n",
    "import torch\n",
    "\n",
    "a = torch.ones(5)\n",
    "# print(a)\n",
    "\n",
    "b = a.numpy()\n",
    "print(b)\n",
    "print(type(b))\n",
    "\n",
    "# Note: The numpy array and the torch tensor share the same memory location if they are on the CPU\n"
   ]
  },
  {
   "cell_type": "code",
   "execution_count": 67,
   "id": "f27d20fb",
   "metadata": {},
   "outputs": [
    {
     "name": "stdout",
     "output_type": "stream",
     "text": [
      "[1. 1. 1. 1. 1.]\n",
      "tensor([1., 1., 1., 1., 1.], dtype=torch.float64)\n",
      "[2. 2. 2. 2. 2.]\n",
      "tensor([2., 2., 2., 2., 2.], dtype=torch.float64)\n",
      "tensor([3., 3., 3., 3., 3.], dtype=torch.float64)\n"
     ]
    }
   ],
   "source": [
    "# Converting numpy arrays to torch tensors\n",
    "a = np.ones(5)\n",
    "b = torch.from_numpy(a)\n",
    "print(a)\n",
    "print(b)\n",
    "\n",
    "a += 1\n",
    "print(a)\n",
    "print(b) # b also gets updated when a is updated\n",
    "# Note: The numpy array and the torch tensor share the same memory location if they are on the CPU\n",
    "\n",
    "b += 1\n",
    "print(b)\n",
    "\n"
   ]
  },
  {
   "cell_type": "markdown",
   "id": "b71f8c2a",
   "metadata": {},
   "source": [
    "1. If the tensor is on the GPU, then the numpy array will be a copy of the tensor \n",
    "2. This is because numpy does not support GPU computations\n",
    "3. To move a tensor to the GPU, use the .to() method <br>\n",
    "    e.g. tensor.to('cuda')\n",
    "4. To move a tensor back to the CPU, use the .to() method <br>\n",
    "    e.g. tensor.to('cpu')\n",
    "5. To move a tensor to the GPU if available, use the .cuda() method <br>\n",
    "    e.g. tensor.cuda()\n",
    "6. To move a tensor to the CPU, use the .cpu() method <br>\n",
    "    e.g. tensor.cpu()"
   ]
  },
  {
   "cell_type": "code",
   "execution_count": 72,
   "id": "a6197ae9",
   "metadata": {},
   "outputs": [
    {
     "name": "stdout",
     "output_type": "stream",
     "text": [
      "CUDA not available\n"
     ]
    }
   ],
   "source": [
    "# numpy only supports CPU tensors\n",
    "# torch tensors can be on CPU or GPU\n",
    "\n",
    "# Moving tensors to GPU\n",
    "if torch.cuda.is_available():\n",
    "    device = torch.device(\"cuda\")\n",
    "    x = torch.ones(5, device=device)\n",
    "    y = torch.ones(5)\n",
    "    y = y.to(device)\n",
    "    z = x + y\n",
    "    # z = z.numpy() # cannot convert CUDA tensor to numpy. Use Tensor.cpu() to copy the tensor to host memory first.\n",
    "    z = z.to(\"cpu\") # move to CPU first\n",
    "    z = z.numpy()\n",
    "    print(z)\n",
    "\n",
    "else:\n",
    "    print(\"CUDA not available\")"
   ]
  },
  {
   "cell_type": "code",
   "execution_count": 75,
   "id": "ee688b3e",
   "metadata": {},
   "outputs": [
    {
     "name": "stdout",
     "output_type": "stream",
     "text": [
      "tensor([[1., 1.],\n",
      "        [1., 1.]], requires_grad=True)\n"
     ]
    }
   ],
   "source": [
    "# Calculating gradients\n",
    "# Gradients are used to optimize neural network parameters\n",
    "# Gradients are calculated with respect to some variable\n",
    "# If x is a tensor, then x.requires_grad=True indicates that x stores a gradient and that the gradient needs to be calculated with respect to x\n",
    "\n",
    "# Example\n",
    "x = torch.ones(2, 2, requires_grad=True)\n",
    "print(x)\n",
    "\n",
    "# By default, requires_grad=False\n"
   ]
  }
 ],
 "metadata": {
  "kernelspec": {
   "display_name": "Python 3 (ipykernel)",
   "language": "python",
   "name": "python3"
  },
  "language_info": {
   "codemirror_mode": {
    "name": "ipython",
    "version": 3
   },
   "file_extension": ".py",
   "mimetype": "text/x-python",
   "name": "python",
   "nbconvert_exporter": "python",
   "pygments_lexer": "ipython3",
   "version": "3.11.4"
  }
 },
 "nbformat": 4,
 "nbformat_minor": 5
}
