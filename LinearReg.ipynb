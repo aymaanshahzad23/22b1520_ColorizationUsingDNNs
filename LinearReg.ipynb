{
 "cells": [
  {
   "cell_type": "code",
   "execution_count": 2,
   "metadata": {},
   "outputs": [
    {
     "ename": "NameError",
     "evalue": "name 'LinearReg' is not defined",
     "output_type": "error",
     "traceback": [
      "\u001b[1;31m---------------------------------------------------------------------------\u001b[0m",
      "\u001b[1;31mNameError\u001b[0m                                 Traceback (most recent call last)",
      "Cell \u001b[1;32mIn[2], line 7\u001b[0m\n\u001b[0;32m      5\u001b[0m X \u001b[38;5;241m=\u001b[39m torch\u001b[38;5;241m.\u001b[39mtensor([])\n\u001b[0;32m      6\u001b[0m Y \u001b[38;5;241m=\u001b[39m torch\u001b[38;5;241m.\u001b[39mtensor([])\n\u001b[1;32m----> 7\u001b[0m \u001b[43mLinearReg\u001b[49m\u001b[38;5;241m.\u001b[39mipynb\n",
      "\u001b[1;31mNameError\u001b[0m: name 'LinearReg' is not defined"
     ]
    }
   ],
   "source": [
    "# Steps\n",
    "# design model (input, output size, forward pass)\n",
    "# Construct loss and optimizer\n",
    "# training loop\n",
    "    # forward pass : compute prediction n loss\n",
    "    # backward pass : compute gradients\n",
    "    # update weights\n",
    "\n",
    "import torch\n",
    "import torch.nn as nn\n",
    "import numpy as np\n",
    "\n",
    "X = torch.tensor([])\n",
    "Y = torch.tensor([])\n",
    "\n",
    "\n",
    "\n"
   ]
  }
 ],
 "metadata": {
  "kernelspec": {
   "display_name": "Python 3",
   "language": "python",
   "name": "python3"
  },
  "language_info": {
   "codemirror_mode": {
    "name": "ipython",
    "version": 3
   },
   "file_extension": ".py",
   "mimetype": "text/x-python",
   "name": "python",
   "nbconvert_exporter": "python",
   "pygments_lexer": "ipython3",
   "version": "3.11.4"
  }
 },
 "nbformat": 4,
 "nbformat_minor": 2
}
